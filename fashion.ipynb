{
  "nbformat": 4,
  "nbformat_minor": 0,
  "metadata": {
    "colab": {
      "provenance": []
    },
    "kernelspec": {
      "name": "python3",
      "display_name": "Python 3"
    },
    "language_info": {
      "name": "python"
    }
  },
  "cells": [
    {
      "cell_type": "code",
      "execution_count": 41,
      "metadata": {
        "id": "u-7vqEb2EdXB"
      },
      "outputs": [],
      "source": [
        "import tensorflow as tf\n",
        "import matplotlib.pyplot as plt\n",
        "from tensorflow import keras\n",
        "import numpy as np\n",
        "import pandas as pd\n"
      ]
    },
    {
      "cell_type": "code",
      "source": [
        "(x_train, y_train), (x_test,y_test) = keras.datasets.fashion_mnist.load_data()"
      ],
      "metadata": {
        "id": "-qq3FN29FI98"
      },
      "execution_count": 42,
      "outputs": []
    },
    {
      "cell_type": "code",
      "source": [
        "plt.imshow(X_train[1])"
      ],
      "metadata": {
        "colab": {
          "base_uri": "https://localhost:8080/",
          "height": 448
        },
        "id": "Z4X6mN9SF3Iw",
        "outputId": "7ec0411d-8860-4d64-acfe-d6ee3f08949a"
      },
      "execution_count": 43,
      "outputs": [
        {
          "output_type": "execute_result",
          "data": {
            "text/plain": [
              "<matplotlib.image.AxesImage at 0x7b12c358aa40>"
            ]
          },
          "metadata": {},
          "execution_count": 43
        },
        {
          "output_type": "display_data",
          "data": {
            "text/plain": [
              "<Figure size 640x480 with 1 Axes>"
            ],
            "image/png": "[encoded data removed]"
          },
          "metadata": {}
        }
      ]
    },
    {
      "cell_type": "code",
      "source": [
        "plt.imshow(X_train[0])"
      ],
      "metadata": {
        "colab": {
          "base_uri": "https://localhost:8080/",
          "height": 448
        },
        "id": "R0nfql0CF-PC",
        "outputId": "62755ae2-8eda-492b-ff46-899c3e89ed92"
      },
      "execution_count": 44,
      "outputs": [
        {
          "output_type": "execute_result",
          "data": {
            "text/plain": [
              "<matplotlib.image.AxesImage at 0x7b12d9377ac0>"
            ]
          },
          "metadata": {},
          "execution_count": 44
        },
        {
          "output_type": "display_data",
          "data": {
            "text/plain": [
              "<Figure size 640x480 with 1 Axes>"
            ],
            "image/png": "[encoded data removed]"
          },
          "metadata": {}
        }
      ]
    },
    {
      "cell_type": "code",
      "source": [
        "classes  = np.unique(y_train)\n",
        "nclasses = len(classes)\n",
        "print(classes)"
      ],
      "metadata": {
        "colab": {
          "base_uri": "https://localhost:8080/"
        },
        "id": "0hgug3MMNBTs",
        "outputId": "526573b1-b1a6-4d12-a82e-61ad158c6711"
      },
      "execution_count": 45,
      "outputs": [
        {
          "output_type": "stream",
          "name": "stdout",
          "text": [
            "[0 1 2 3 4 5 6 7 8 9]\n"
          ]
        }
      ]
    },
    {
      "cell_type": "code",
      "source": [
        "x_train =  x_train.reshape(-1, 28, 28, 1)\n",
        "x_train = x_train.astype('float32')\n",
        "x_train = x_train/255.0\n",
        "\n",
        "x_test =  x_test.reshape(-1, 28, 28, 1)\n",
        "x_test = x_test.astype('float32')\n",
        "x_test = x_test/255.0"
      ],
      "metadata": {
        "id": "qoUm31tNLXFl"
      },
      "execution_count": 46,
      "outputs": []
    },
    {
      "cell_type": "code",
      "source": [
        "from tensorflow.keras.utils import to_categorical\n",
        "one_hot_y_train = to_categorical(y_train)\n",
        "one_hot_y_test = to_categorical(y_test)"
      ],
      "metadata": {
        "id": "GQd-IQTsGRy0"
      },
      "execution_count": 47,
      "outputs": []
    },
    {
      "cell_type": "code",
      "source": [
        "from sklearn.model_selection import train_test_split\n",
        "X_train, X_test, y_train, y_test = train_test_split(x_train, one_hot_y_train, test_size = 0.2, random_state=14)"
      ],
      "metadata": {
        "id": "VA_lVnLYHGo5"
      },
      "execution_count": 51,
      "outputs": []
    },
    {
      "cell_type": "code",
      "source": [
        "from tensorflow.keras.models import Sequential\n",
        "from tensorflow.keras.layers import Dense, Dropout, Flatten, Conv2D,MaxPooling2D, BatchNormalization, LeakyReLU"
      ],
      "metadata": {
        "id": "H2zF_PJqHKla"
      },
      "execution_count": 58,
      "outputs": []
    },
    {
      "cell_type": "code",
      "source": [
        "model = Sequential()\n",
        "model.add(Conv2D(32, kernel_size=(3,3), activation = 'linear', input_shape=(28,28,1),padding='same')),\n",
        "model.add(LeakyReLU(alpha=0.1)),\n",
        "model.add(MaxPooling2D((2,2), padding=\"same\")),\n",
        "model.add(Dropout(0.25)),\n",
        "\n",
        "model.add(Conv2D(64, (3,3), activation = 'linear',padding='same')),\n",
        "model.add(LeakyReLU(alpha=0.1)),\n",
        "model.add(MaxPooling2D((2,2), padding=\"same\")),\n",
        "model.add(Dropout(0.25)),\n",
        "\n",
        "model.add(Conv2D(128, (3,3), activation = 'linear',padding='same')),\n",
        "model.add(LeakyReLU(alpha=0.1)),\n",
        "model.add(MaxPooling2D((2,2),padding='same')),\n",
        "\n",
        "model.add(Flatten()),\n",
        "model.add(Dense(128, activation = 'linear')),\n",
        "model.add(Dropout(0.25)),\n",
        "model.add(Dense(10, activation = 'softmax'))\n"
      ],
      "metadata": {
        "id": "WktdSKwIHVpR"
      },
      "execution_count": 63,
      "outputs": []
    },
    {
      "cell_type": "code",
      "source": [
        "model.compile(\n",
        "    optimizer='adam',\n",
        "    loss='categorical_crossentropy',\n",
        "    metrics='accuracy'\n",
        ")\n",
        "model.summary()"
      ],
      "metadata": {
        "colab": {
          "base_uri": "https://localhost:8080/"
        },
        "id": "neoDK_2oKy7r",
        "outputId": "0b58cb68-9fa3-4659-a13b-1c8eb21231d6"
      },
      "execution_count": 66,
      "outputs": [
        {
          "output_type": "stream",
          "name": "stdout",
          "text": [
            "Model: \"sequential_7\"\n",
            "_________________________________________________________________\n",
            " Layer (type)                Output Shape              Param #   \n",
            "=================================================================\n",
            " conv2d_38 (Conv2D)          (None, 28, 28, 32)        320       \n",
            "                                                                 \n",
            " leaky_re_lu_13 (LeakyReLU)  (None, 28, 28, 32)        0         \n",
            "                                                                 \n",
            " max_pooling2d_21 (MaxPooli  (None, 14, 14, 32)        0         \n",
            " ng2D)                                                           \n",
            "                                                                 \n",
            " dropout_26 (Dropout)        (None, 14, 14, 32)        0         \n",
            "                                                                 \n",
            " conv2d_39 (Conv2D)          (None, 14, 14, 64)        18496     \n",
            "                                                                 \n",
            " leaky_re_lu_14 (LeakyReLU)  (None, 14, 14, 64)        0         \n",
            "                                                                 \n",
            " max_pooling2d_22 (MaxPooli  (None, 7, 7, 64)          0         \n",
            " ng2D)                                                           \n",
            "                                                                 \n",
            " dropout_27 (Dropout)        (None, 7, 7, 64)          0         \n",
            "                                                                 \n",
            " conv2d_40 (Conv2D)          (None, 7, 7, 128)         73856     \n",
            "                                                                 \n",
            " leaky_re_lu_15 (LeakyReLU)  (None, 7, 7, 128)         0         \n",
            "                                                                 \n",
            " max_pooling2d_23 (MaxPooli  (None, 4, 4, 128)         0         \n",
            " ng2D)                                                           \n",
            "                                                                 \n",
            " flatten_9 (Flatten)         (None, 2048)              0         \n",
            "                                                                 \n",
            " dense_8 (Dense)             (None, 128)               262272    \n",
            "                                                                 \n",
            " dropout_28 (Dropout)        (None, 128)               0         \n",
            "                                                                 \n",
            " dense_9 (Dense)             (None, 10)                1290      \n",
            "                                                                 \n",
            "=================================================================\n",
            "Total params: 356234 (1.36 MB)\n",
            "Trainable params: 356234 (1.36 MB)\n",
            "Non-trainable params: 0 (0.00 Byte)\n",
            "_________________________________________________________________\n"
          ]
        }
      ]
    },
    {
      "cell_type": "code",
      "source": [
        "from re import VERBOSE\n",
        "result = model.fit(\n",
        "    X_train, y_train,\n",
        "    batch_size= 64,\n",
        "    epochs=20,\n",
        "    verbose = 1,\n",
        "    validation_data = (X_test,y_test)\n",
        ")"
      ],
      "metadata": {
        "colab": {
          "base_uri": "https://localhost:8080/"
        },
        "id": "7p3oyg3tSe2v",
        "outputId": "b5c213ac-7017-4c52-cc55-b305d9f89646"
      },
      "execution_count": null,
      "outputs": [
        {
          "output_type": "stream",
          "name": "stdout",
          "text": [
            "Epoch 1/20\n",
            "750/750 [==============================] - 113s 146ms/step - loss: 0.5278 - accuracy: 0.8077 - val_loss: 0.3753 - val_accuracy: 0.8598\n",
            "Epoch 2/20\n",
            "750/750 [==============================] - 124s 166ms/step - loss: 0.3427 - accuracy: 0.8741 - val_loss: 0.2920 - val_accuracy: 0.8899\n",
            "Epoch 3/20\n",
            "750/750 [==============================] - 102s 136ms/step - loss: 0.2954 - accuracy: 0.8919 - val_loss: 0.2599 - val_accuracy: 0.9051\n",
            "Epoch 4/20\n",
            "750/750 [==============================] - 102s 136ms/step - loss: 0.2720 - accuracy: 0.9013 - val_loss: 0.2562 - val_accuracy: 0.9070\n",
            "Epoch 5/20\n",
            "750/750 [==============================] - 103s 137ms/step - loss: 0.2560 - accuracy: 0.9070 - val_loss: 0.2438 - val_accuracy: 0.9130\n",
            "Epoch 6/20\n",
            "750/750 [==============================] - 107s 143ms/step - loss: 0.2418 - accuracy: 0.9107 - val_loss: 0.2267 - val_accuracy: 0.9156\n",
            "Epoch 7/20\n",
            "750/750 [==============================] - 106s 141ms/step - loss: 0.2279 - accuracy: 0.9166 - val_loss: 0.2312 - val_accuracy: 0.9195\n",
            "Epoch 8/20\n",
            "750/750 [==============================] - 101s 135ms/step - loss: 0.2188 - accuracy: 0.9195 - val_loss: 0.2216 - val_accuracy: 0.9235\n",
            "Epoch 9/20\n",
            "750/750 [==============================] - 107s 143ms/step - loss: 0.2136 - accuracy: 0.9207 - val_loss: 0.2569 - val_accuracy: 0.9103\n",
            "Epoch 10/20\n",
            "750/750 [==============================] - 99s 132ms/step - loss: 0.2048 - accuracy: 0.9252 - val_loss: 0.2278 - val_accuracy: 0.9216\n",
            "Epoch 11/20\n",
            "750/750 [==============================] - 101s 135ms/step - loss: 0.1957 - accuracy: 0.9279 - val_loss: 0.2306 - val_accuracy: 0.9195\n",
            "Epoch 12/20\n",
            "558/750 [=====================>........] - ETA: 24s - loss: 0.1928 - accuracy: 0.9292"
          ]
        }
      ]
    },
    {
      "cell_type": "code",
      "source": [
        "test_loss, test_acc = model.evaluate(X_test,y_test)\n",
        "print(\"test Accuracy: \", test_acc)"
      ],
      "metadata": {
        "id": "e-NLd_6MTlVk"
      },
      "execution_count": null,
      "outputs": []
    }
  ]
}